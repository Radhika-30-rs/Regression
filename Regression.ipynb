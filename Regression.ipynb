{
  "nbformat": 4,
  "nbformat_minor": 0,
  "metadata": {
    "colab": {
      "provenance": []
    },
    "kernelspec": {
      "name": "python3",
      "display_name": "Python 3"
    },
    "language_info": {
      "name": "python"
    }
  },
  "cells": [
    {
      "cell_type": "markdown",
      "source": [
        "ques1-**What is Simple Linear Regression**\n",
        "\n",
        "Answer-Simple Linear Regression is a basic statistical method used to model and analyze the relationship between two variables: one independent variable (predictor) and one dependent variable (response)."
      ],
      "metadata": {
        "id": "Uc9LoD2GnY0q"
      }
    },
    {
      "cell_type": "markdown",
      "source": [
        "ques2-**What are the key assumptions of Simple Linear Regression?**\n",
        "\n",
        "Answer-1. Linearity\n",
        "The relationship between the independent variable\n",
        "𝑥\n",
        "x and the dependent variable\n",
        "𝑦\n",
        "y is linear.\n",
        "\n",
        "In other words, the change in\n",
        "𝑦\n",
        "y can be described by a straight line as\n",
        "𝑥\n",
        "x changes.\n",
        "\n",
        "2. Independence\n",
        "Observations (data points) are independent of each other.\n",
        "\n",
        "The residuals (errors) are independent, meaning the error for one observation is not related to another.\n",
        "\n",
        "3. Homoscedasticity (Constant Variance)\n",
        "The variance of the residuals (errors) is constant for all values of\n",
        "𝑥\n",
        "x.\n",
        "\n",
        "This means the spread of errors should be roughly the same across all predicted values.\n",
        "\n",
        "4. Normality of Residuals\n",
        "The residuals (differences between observed and predicted\n",
        "𝑦\n",
        "y) are normally distributed.\n",
        "\n",
        "This assumption is important for inference (confidence intervals, hypothesis tests).\n",
        "\n",
        "5. No Multicollinearity (more relevant for multiple regression)\n",
        "In simple linear regression with just one predictor, this is not applicable.\n",
        "\n",
        "But it’s important in multiple regression to ensure predictors are not highly correlated."
      ],
      "metadata": {
        "id": "ilr64dgynzmD"
      }
    },
    {
      "cell_type": "markdown",
      "source": [
        "ques3-**What does the coefficient m represent in the equation Y=mX+c**\n",
        "\n",
        "Answer-m is the coefficient or slope of the line.\n",
        "\n",
        "It represents the rate of change of Y.\n",
        "\n",
        "Y with respect to X"
      ],
      "metadata": {
        "id": "OJ8XicaRoKIR"
      }
    },
    {
      "cell_type": "markdown",
      "source": [
        "ques 4-**What does the intercept c represent in the equation Y=mX+c**\n",
        "\n",
        "Answer-The intercept\n",
        "𝑐\n",
        "c in the equation\n",
        "𝑌=𝑚𝑋+𝑐\n",
        "Y=mX+c represents the value of 𝑌 when X=0."
      ],
      "metadata": {
        "id": "WhY49zwLoejn"
      }
    },
    {
      "cell_type": "markdown",
      "source": [
        "ques 5-**How do we calculate the slope m in Simple Linear Regression**\n",
        "\n",
        "Answer-m=\n",
        "∑(X\n",
        "i\n",
        "​\n",
        " −\n",
        "X\n",
        "ˉ\n",
        " )\n",
        "2\n",
        "\n",
        "∑(X\n",
        "i\n",
        "​\n",
        " −\n",
        "X\n",
        "ˉ\n",
        " )(Y\n",
        "i\n",
        "​\n",
        " −\n",
        "Y\n",
        "ˉ\n",
        " )\n",
        "​"
      ],
      "metadata": {
        "id": "WAURagZeo00r"
      }
    },
    {
      "cell_type": "markdown",
      "source": [
        "ques 6-**What is the purpose of the least squares method in Simple Linear Regression**\n",
        "\n",
        "Answer-Purpose:\n",
        "It minimizes the sum of the squared differences between the actual observed values (\n",
        "𝑦\n",
        "𝑖\n",
        "y\n",
        "i\n",
        "​\n",
        " ) and the predicted values (\n",
        "𝑦\n",
        "^\n",
        "𝑖\n",
        "y\n",
        "^\n",
        "i\n",
        "​\n",
        " ) from the regression line.\n",
        "\n",
        "These differences are called residuals or errors."
      ],
      "metadata": {
        "id": "w2ZrvM4LpiVX"
      }
    },
    {
      "cell_type": "markdown",
      "source": [
        "ques 7-**How is the coefficient of determination (R²) interpreted in Simple Linear Regression**\n",
        "\n",
        "Answer-Interpretation:\n",
        "𝑅\n",
        "2\n",
        "=\n",
        "0\n",
        "R\n",
        "2\n",
        " =0: The model explains none of the variability in\n",
        "𝑌\n",
        "Y. The independent variable\n",
        "𝑋\n",
        "X does not help in predicting\n",
        "𝑌\n",
        "Y.\n",
        "\n",
        "𝑅\n",
        "2\n",
        "=\n",
        "1\n",
        "R\n",
        "2\n",
        " =1: The model explains all the variability in\n",
        "𝑌\n",
        "Y. The regression line perfectly fits the data.\n",
        "\n",
        "Example:\n",
        "𝑅\n",
        "2\n",
        "=\n",
        "0.75\n",
        "R\n",
        "2\n",
        " =0.75 means 75% of the variation in\n",
        "𝑌\n",
        "Y is explained by\n",
        "𝑋\n",
        "X, and 25% is unexplained (due to other factors or randomness).\n",
        "\n"
      ],
      "metadata": {
        "id": "bSsD-QYep12y"
      }
    },
    {
      "cell_type": "markdown",
      "source": [
        "ques 8-**What is Multiple Linear Regression**\n",
        "\n",
        "Answer-Multiple Linear Regression is an extension of simple linear regression that models the relationship between one dependent variable and two or more independent variables."
      ],
      "metadata": {
        "id": "PSHP7ahEqLOO"
      }
    },
    {
      "cell_type": "markdown",
      "source": [
        "ques 9-**What is the main difference between Simple and Multiple Linear Regression**\n",
        "\n",
        "Answer-The main difference between Simple Linear Regression and Multiple Linear Regression lies in the number of independent variables used to predict the dependent variable"
      ],
      "metadata": {
        "id": "ZWCvtrS-qV2q"
      }
    },
    {
      "cell_type": "markdown",
      "source": [
        "ques10-**What are the key assumptions of Multiple Linear Regression**\n",
        "\n",
        "Answer-. Linearity\n",
        "The relationship between each independent variable and the dependent variable is linear.\n",
        "\n",
        "The combined effect of predictors on\n",
        "𝑌\n",
        "Y can be modeled as a linear function.\n",
        "\n",
        "2. Independence of Errors\n",
        "The residuals (errors) are independent of each other.\n",
        "\n",
        "No autocorrelation — especially important with time series data.\n",
        "\n",
        "3. Homoscedasticity (Constant Variance)\n",
        "The variance of residuals is constant across all levels of the independent variables.\n",
        "\n",
        "Residuals should not show patterns when plotted against predicted values.\n",
        "\n",
        "4. Normality of Residuals\n",
        "Residuals are normally distributed.\n",
        "\n",
        "This is important for hypothesis testing and confidence intervals.\n",
        "\n",
        "5. No Multicollinearity\n",
        "Independent variables are not highly correlated with each other.\n",
        "\n",
        "High correlation between predictors (multicollinearity) can distort coefficient estimates and their significance.\n",
        "\n",
        "6. No Significant Outliers or Influential Points\n",
        "The dataset should not have extreme outliers that disproportionately influence the model."
      ],
      "metadata": {
        "id": "S_Tuzxq0qj36"
      }
    },
    {
      "cell_type": "markdown",
      "source": [
        "ques11-**What is heteroscedasticity, and how does it affect the results of a Multiple Linear Regression model**\n",
        "\n",
        "Answer-Heteroscedasticity refers to a situation in regression analysis where the variance of the residuals (errors) is not constant across all levels of the independent variables.\n",
        "\n",
        "1. Inefficient estimates:\n",
        "The ordinary least squares (OLS) estimates of coefficients remain unbiased but are no longer efficient (not the best or minimum variance).\n",
        "\n",
        "2. Invalid standard errors:\n",
        "The calculated standard errors may be biased, which leads to:\n",
        "\n",
        ". Incorrect confidence intervals\n",
        "\n",
        ". Wrong hypothesis test results (e.g., p-values may be misleading)\n",
        "\n",
        "3. Misleading inference:\n",
        "Because of invalid standard errors, you might wrongly conclude that some variables are significant or insignificant."
      ],
      "metadata": {
        "id": "LMnpE0WVqxxP"
      }
    },
    {
      "cell_type": "markdown",
      "source": [
        "ques 12-**How can you improve a Multiple Linear Regression model with high multicollinearity**\n",
        "\n",
        "Answer-Detect Multicollinearity\n",
        "\n",
        "Use Regularization (Preferred for Prediction)\n",
        "\n",
        "Remove Highly Correlated Predictors\n",
        "\n",
        "Combine Variables"
      ],
      "metadata": {
        "id": "NnwdQ_kFrKz3"
      }
    },
    {
      "cell_type": "markdown",
      "source": [
        "ques 13-**What are some common techniques for transforming categorical variables for use in regression models**\n",
        "\n",
        "Answer-One-Hot Encoding (Dummy Variables)\n",
        "\n",
        " Ordinal Encoding\n",
        "\n",
        "  Target (Mean) Encoding"
      ],
      "metadata": {
        "id": "hj2A4Kn4Z0K0"
      }
    },
    {
      "cell_type": "markdown",
      "source": [
        "ques 14-** What is the role of interaction terms in Multiple Linear Regression**\n",
        "\n",
        "Answer-Interaction terms allow a Multiple Linear Regression (MLR) model to account for the combined effect of two (or more) predictors on the target variable — effects that are not simply additive."
      ],
      "metadata": {
        "id": "B2JrmWVLaG2L"
      }
    },
    {
      "cell_type": "markdown",
      "source": [
        "ques 15-**How can the interpretation of intercept differ between Simple and Multiple Linear Regression**\n",
        "\n",
        "Answer-1. Simple Linear Regression (SLR)\n",
        "Model:\n",
        "\n",
        "𝑦\n",
        "=\n",
        "𝛽\n",
        "0\n",
        "+\n",
        "𝛽\n",
        "1\n",
        "𝑥\n",
        "+\n",
        "𝜖\n",
        "y=β\n",
        "0\n",
        "​\n",
        " +β\n",
        "1\n",
        "​\n",
        " x+ϵ\n",
        "Intercept\n",
        "𝛽\n",
        "0\n",
        "β\n",
        "0\n",
        "​\n",
        "  means:\n",
        "\n",
        "The expected value of\n",
        "𝑦\n",
        "y when\n",
        "𝑥\n",
        "=\n",
        "0\n",
        "x=0\n",
        "\n",
        "✅ Interpretation is usually straightforward, because there's only one predictor.\n",
        "\n",
        "Example:\n",
        "If you're modeling income based on years of experience:\n",
        "\n",
        "income\n",
        "=\n",
        "𝛽\n",
        "0\n",
        "+\n",
        "𝛽\n",
        "1\n",
        "(\n",
        "experience\n",
        ")\n",
        "income=β\n",
        "0\n",
        "​\n",
        " +β\n",
        "1\n",
        "​\n",
        " (experience)\n",
        "Then\n",
        "𝛽\n",
        "0\n",
        "β\n",
        "0\n",
        "​\n",
        "  is the predicted income with 0 years of experience."
      ],
      "metadata": {
        "id": "sUlhUkBBaTAx"
      }
    },
    {
      "cell_type": "markdown",
      "source": [
        "ques 16-**What is the significance of the slope in regression analysis, and how does it affect predictions**\n",
        "\n",
        "Answer-The slope in regression analysis represents the rate of change in the dependent variable (target) for a one-unit change in an independent variable (predictor), holding all other variables constant (in multiple regression)."
      ],
      "metadata": {
        "id": "vioOfcxoalTK"
      }
    },
    {
      "cell_type": "markdown",
      "source": [
        "ques17-** How does the intercept in a regression model provide context for the relationship between variables**\n",
        "\n",
        "Answer-The intercept in a regression model (\n",
        "𝛽\n",
        "0\n",
        "β\n",
        "0\n",
        "​\n",
        " ) serves as the baseline value of the dependent variable when all independent variables are set to zero. While it's not always the most important coefficient, it provides context for understanding the overall relationship between variables."
      ],
      "metadata": {
        "id": "6tSE3j_4axVA"
      }
    },
    {
      "cell_type": "markdown",
      "source": [
        "ques 18-**\u0014- What are the limitations of using R² as a sole measure of model performance**\n",
        "\n",
        "Answer-R² Doesn't Indicate Model Accuracy\n",
        "R² shows the proportion of variance explained, not how close predictions are to actual values.\n",
        "\n",
        "A high R² doesn’t mean your predictions are accurate in absolute terms\n",
        "\n",
        "R² Always Increases With More Predictors\n",
        "Adding more variables (even irrelevant ones) will never decrease R².\n",
        "\n",
        "This can lead to overfitting — a model that fits the training data well but performs poorly on new data."
      ],
      "metadata": {
        "id": "CcCEqo8sbYcP"
      }
    },
    {
      "cell_type": "markdown",
      "source": [
        "ques 19-**How would you interpret a large standard error for a regression coefficient**\n",
        "\n",
        "Answer-Check for multicollinearity (use VIF).\n",
        "\n",
        "Standardize variables to help with scale-related issues.\n",
        "\n",
        "Simplify the model if too many predictors are included.\n",
        "\n",
        "Consider collecting more data if feasible.\n",
        "\n",
        "Use regularization techniques (like Ridge or Lasso) to stabilize estimates."
      ],
      "metadata": {
        "id": "oB8mMqBnbosb"
      }
    },
    {
      "cell_type": "markdown",
      "source": [
        "ques 20-**How can heteroscedasticity be identified in residual plots, and why is it important to address it**\n",
        "\n",
        "Answer-Plot: Residuals (errors) vs. Fitted (Predicted) values or vs. an independent variable.\n",
        "\n",
        "Look for: A pattern where the spread (variance) of residuals changes with the fitted values.\n",
        "\n",
        "Common signs of heteroscedasticity:\n",
        "Funnel shape: Residuals fan out or funnel in as fitted values increase (variance increases or decreases)."
      ],
      "metadata": {
        "id": "ue9rf6jycHj4"
      }
    },
    {
      "cell_type": "markdown",
      "source": [
        "ques 21-**What does it mean if a Multiple Linear Regression model has a high R² but low adjusted R²**\n",
        "\n",
        "Answer-R² measures the proportion of variance explained by the model and always increases (or at least doesn't decrease) when you add more predictors, even if they’re irrelevant.\n",
        "\n",
        "Adjusted R² penalizes for adding variables that do not improve the model sufficiently relative to the number of predictors and sample size."
      ],
      "metadata": {
        "id": "usxhQCsPcVBz"
      }
    },
    {
      "cell_type": "markdown",
      "source": [
        "ques22-**Why is it important to scale variables in Multiple Linear Regression**\n",
        "\n",
        "Answer-caling means transforming variables so they have a comparable range or distribution — commonly by:\n",
        "\n",
        "Standardization: subtract mean and divide by standard deviation (mean = 0, std = 1)\n",
        "\n",
        "Min-max scaling: rescaling to a fixed range (like 0 to 1)\n",
        "\n",
        "Makes Coefficients More Comparable\n",
        "Without scaling, variables with larger units or ranges can have larger coefficients just because of their scale, making it hard to interpret relative importance.\n",
        "\n",
        "Scaling puts variables on the same footing, so coefficient magnitudes reflect relative effect sizes more fairly.\n",
        "\n",
        "🔹 c. Essential for Regularization Techniques\n",
        "Methods like Ridge and Lasso regression add penalties based on coefficient size.\n",
        "\n",
        "If variables aren’t scaled, the penalty unfairly affects variables with large scales.\n",
        "\n",
        "Scaling ensures regularization treats all variables equally.\n",
        "\n",
        "🔹 d. Speeds Up Convergence in Optimization\n",
        "Algorithms (like gradient descent) converge faster when variables are scaled similarly.\n",
        "\n",
        "This reduces training time and improves efficiency."
      ],
      "metadata": {
        "id": "2RYc-JOeciqA"
      }
    },
    {
      "cell_type": "markdown",
      "source": [
        "ques 23-**What is polynomial regression**\n",
        "\n",
        "Answer-Polynomial regression is a type of regression analysis where the relationship between the independent variable(s) and the dependent variable is modeled as an nth-degree polynomial."
      ],
      "metadata": {
        "id": "BVpVknHkdB3W"
      }
    },
    {
      "cell_type": "markdown",
      "source": [
        "ques24-**How does polynomial regression differ from linear regression**\n",
        "\n",
        "Answer-Linear regression fits a straight line to the data.\n",
        "\n",
        "Polynomial regression fits a curve by adding powers of the predictor variable.\n",
        "\n",
        "Interpretability\n",
        "Linear regression coefficients correspond directly to the change in\n",
        "𝑦\n",
        "y for a unit change in\n",
        "𝑥\n",
        "x.\n",
        "\n",
        "Polynomial regression coefficients for higher powers are harder to interpret individually but together model complex relationships.\n",
        "\n",
        "Complexity and Risks\n",
        "Polynomial regression is more flexible but prone to overfitting, especially with high-degree polynomials.\n",
        "\n",
        "Linear regression is simpler, less prone to overfitting, and easier to explain.\n",
        "\n"
      ],
      "metadata": {
        "id": "SCJ4vEB9dMoM"
      }
    },
    {
      "cell_type": "markdown",
      "source": [
        "ques25-**When is polynomial regression used**\n",
        "\n",
        "Answer-Polynomial regression is used when the relationship between the independent variable(s) and the dependent variable is nonlinear and cannot be well captured by a straight line."
      ],
      "metadata": {
        "id": "EI9BqXbLdxW0"
      }
    },
    {
      "cell_type": "markdown",
      "source": [
        "ques 26-**What is the general equation for polynomial regression**\n",
        "\n",
        "Answer-y=β\n",
        "0\n",
        "​\n",
        " +β\n",
        "1\n",
        "​\n",
        " x+β\n",
        "2\n",
        "​\n",
        " x\n",
        "2\n",
        " +β\n",
        "3\n",
        "​\n",
        " x\n",
        "3\n",
        " +⋯+β\n",
        "n\n",
        "​\n",
        " x\n",
        "n\n",
        " +ϵ"
      ],
      "metadata": {
        "id": "-y1XvkIhd-wh"
      }
    },
    {
      "cell_type": "markdown",
      "source": [
        "ques 27-**Can polynomial regression be applied to multiple variables**\n",
        "\n",
        "Answer-Yes, polynomial regression can absolutely be applied to multiple variables! This is often called multivariate polynomial regression or simply polynomial regression with multiple predictors."
      ],
      "metadata": {
        "id": "rBIQUzkaeIuS"
      }
    },
    {
      "cell_type": "markdown",
      "source": [
        "ques 28-**What are the limitations of polynomial regression**\n",
        "\n",
        "Answer- Overfitting\n",
        "High-degree polynomials can fit the training data very closely, including noise.\n",
        "\n",
        "This leads to poor generalization and overfitting on unseen data.\n",
        "\n",
        "Interpretability\n",
        "Coefficients of higher-degree terms are hard to interpret.\n",
        "\n",
        "The relationship becomes less intuitive as complexity increases.\n",
        "\n"
      ],
      "metadata": {
        "id": "ugc9-SeteS60"
      }
    },
    {
      "cell_type": "markdown",
      "source": [
        "ques 29-**What methods can be used to evaluate model fit when selecting the degree of a polynomial**\n",
        "\n",
        "Answer-Train/Test Split & Validation\n",
        "Split your data into training and test sets.\n",
        "\n",
        "Fit models with different polynomial degrees on training data.\n",
        "\n",
        "Evaluate performance (e.g., RMSE, MAE) on test data.\n",
        "\n",
        "Choose degree that minimizes test error (good generalization).\n",
        "\n",
        "2. Cross-Validation (CV)\n",
        "Use k-fold cross-validation to assess model performance more reliably.\n",
        "\n",
        "For each polynomial degree, compute average error metrics across folds.\n",
        "\n",
        "Helps avoid overfitting that can happen with a single train/test split.\n",
        "\n",
        "3. Adjusted R²\n",
        "Unlike regular R², adjusted R² penalizes for adding unnecessary predictors.\n",
        "\n",
        "Select polynomial degree with the highest adjusted R² (indicates better fit without overfitting).\n",
        "\n",
        "4. Information Criteria\n",
        "AIC (Akaike Information Criterion) and BIC (Bayesian Information Criterion) balance model fit and complexity.\n",
        "\n",
        "Lower AIC/BIC indicates better model considering penalty for complexity.\n",
        "\n",
        "5. Visual Inspection\n",
        "Plot fitted curves vs. data points for different polynomial degrees.\n",
        "\n",
        "Check if higher-degree polynomials capture meaningful patterns or just noise.\n",
        "\n",
        "6. Residual Analysis\n",
        "Check residual plots for patterns or heteroscedasticity.\n",
        "\n",
        "Good fit should have residuals randomly scattered with constant variance."
      ],
      "metadata": {
        "id": "CsnX6Extem9V"
      }
    },
    {
      "cell_type": "markdown",
      "source": [
        "ques 30-**Why is visualization important in polynomial regression**\n",
        "\n",
        "Answer-Understand the Relationship\n",
        "\n",
        "Detect Overfitting\n",
        "\n",
        "Interpretability\n",
        "\n",
        "Assess Model Fit"
      ],
      "metadata": {
        "id": "LX5wdpFTfBX6"
      }
    },
    {
      "cell_type": "markdown",
      "source": [
        "ques 31-**How is polynomial regression implemented in Python?**"
      ],
      "metadata": {
        "id": "COr_2O2KfPLr"
      }
    },
    {
      "cell_type": "code",
      "execution_count": 1,
      "metadata": {
        "id": "1--JbuignVwE",
        "colab": {
          "base_uri": "https://localhost:8080/",
          "height": 507
        },
        "outputId": "849b2096-bdc1-4f0a-bb2c-af75702881fe"
      },
      "outputs": [
        {
          "output_type": "stream",
          "name": "stdout",
          "text": [
            "MSE: 0.00\n",
            "R²: 1.00\n"
          ]
        },
        {
          "output_type": "display_data",
          "data": {
            "text/plain": [
              "<Figure size 640x480 with 1 Axes>"
            ],
            "image/png": "[encoded data removed]"
          },
          "metadata": {}
        }
      ],
      "source": [
        "import numpy as np\n",
        "import matplotlib.pyplot as plt\n",
        "from sklearn.linear_model import LinearRegression\n",
        "from sklearn.preprocessing import PolynomialFeatures\n",
        "from sklearn.metrics import mean_squared_error, r2_score\n",
        "# Example data (replace with your own)\n",
        "X = np.array([1, 2, 3, 4, 5]).reshape(-1, 1)  # Predictor\n",
        "y = np.array([1, 4, 9, 16, 25])               # Response (quadratic relationship)\n",
        "degree = 2  # Degree of the polynomial\n",
        "\n",
        "poly = PolynomialFeatures(degree=degree)\n",
        "X_poly = poly.fit_transform(X)\n",
        "model = LinearRegression()\n",
        "model.fit(X_poly, y)\n",
        "y_pred = model.predict(X_poly)\n",
        "mse = mean_squared_error(y, y_pred)\n",
        "r2 = r2_score(y, y_pred)\n",
        "print(f\"MSE: {mse:.2f}\")\n",
        "print(f\"R²: {r2:.2f}\")\n",
        "plt.scatter(X, y, color='blue', label='Actual data')\n",
        "plt.plot(X, y_pred, color='red', label='Polynomial fit')\n",
        "plt.xlabel('X')\n",
        "plt.ylabel('y')\n",
        "plt.title(f'Polynomial Regression (degree={degree})')\n",
        "plt.legend()\n",
        "plt.show()\n"
      ]
    },
    {
      "cell_type": "code",
      "source": [],
      "metadata": {
        "id": "6JJtZcxZfn7o"
      },
      "execution_count": null,
      "outputs": []
    }
  ]
}